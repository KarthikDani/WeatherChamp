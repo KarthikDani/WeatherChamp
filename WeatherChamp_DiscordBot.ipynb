{
  "nbformat": 4,
  "nbformat_minor": 0,
  "metadata": {
    "colab": {
      "provenance": []
    },
    "kernelspec": {
      "name": "python3",
      "display_name": "Python 3"
    },
    "language_info": {
      "name": "python"
    }
  },
  "cells": [
    {
      "cell_type": "code",
      "source": [
        "!pip install discord.py"
      ],
      "metadata": {
        "colab": {
          "base_uri": "https://localhost:8080/"
        },
        "id": "MeqRT23PemII",
        "outputId": "ae51b05b-f533-4593-c9ab-a5d4dd171778"
      },
      "execution_count": 1,
      "outputs": [
        {
          "output_type": "stream",
          "name": "stdout",
          "text": [
            "Requirement already satisfied: discord.py in /usr/local/lib/python3.10/dist-packages (2.3.2)\n",
            "Requirement already satisfied: aiohttp<4,>=3.7.4 in /usr/local/lib/python3.10/dist-packages (from discord.py) (3.8.5)\n",
            "Requirement already satisfied: attrs>=17.3.0 in /usr/local/lib/python3.10/dist-packages (from aiohttp<4,>=3.7.4->discord.py) (23.1.0)\n",
            "Requirement already satisfied: charset-normalizer<4.0,>=2.0 in /usr/local/lib/python3.10/dist-packages (from aiohttp<4,>=3.7.4->discord.py) (3.2.0)\n",
            "Requirement already satisfied: multidict<7.0,>=4.5 in /usr/local/lib/python3.10/dist-packages (from aiohttp<4,>=3.7.4->discord.py) (6.0.4)\n",
            "Requirement already satisfied: async-timeout<5.0,>=4.0.0a3 in /usr/local/lib/python3.10/dist-packages (from aiohttp<4,>=3.7.4->discord.py) (4.0.3)\n",
            "Requirement already satisfied: yarl<2.0,>=1.0 in /usr/local/lib/python3.10/dist-packages (from aiohttp<4,>=3.7.4->discord.py) (1.9.2)\n",
            "Requirement already satisfied: frozenlist>=1.1.1 in /usr/local/lib/python3.10/dist-packages (from aiohttp<4,>=3.7.4->discord.py) (1.4.0)\n",
            "Requirement already satisfied: aiosignal>=1.1.2 in /usr/local/lib/python3.10/dist-packages (from aiohttp<4,>=3.7.4->discord.py) (1.3.1)\n",
            "Requirement already satisfied: idna>=2.0 in /usr/local/lib/python3.10/dist-packages (from yarl<2.0,>=1.0->aiohttp<4,>=3.7.4->discord.py) (3.4)\n"
          ]
        }
      ]
    },
    {
      "cell_type": "code",
      "source": [
        "!pip install nest-asyncio\n",
        "import nest_asyncio\n",
        "nest_asyncio.apply()"
      ],
      "metadata": {
        "colab": {
          "base_uri": "https://localhost:8080/"
        },
        "id": "44qjgDY9fJnS",
        "outputId": "61c52639-e938-4d31-ae29-48f3ef3e9cd3"
      },
      "execution_count": 2,
      "outputs": [
        {
          "output_type": "stream",
          "name": "stdout",
          "text": [
            "Requirement already satisfied: nest-asyncio in /usr/local/lib/python3.10/dist-packages (1.5.7)\n"
          ]
        }
      ]
    },
    {
      "cell_type": "code",
      "execution_count": 3,
      "metadata": {
        "colab": {
          "base_uri": "https://localhost:8080/"
        },
        "id": "bXo8o1kTebjm",
        "outputId": "9d1d481e-70b6-44db-e641-337ae3de8b46"
      },
      "outputs": [
        {
          "output_type": "stream",
          "name": "stderr",
          "text": [
            "WARNING:discord.client:PyNaCl is not installed, voice will NOT be supported\n",
            "\u001b[30;1m2023-08-20 06:42:23\u001b[0m \u001b[34;1mINFO    \u001b[0m \u001b[35mdiscord.client\u001b[0m logging in using static token\n",
            "INFO:discord.client:logging in using static token\n",
            "\u001b[30;1m2023-08-20 06:42:23\u001b[0m \u001b[34;1mINFO    \u001b[0m \u001b[35mdiscord.gateway\u001b[0m Shard ID None has connected to Gateway (Session ID: 1122d567b1d131757ca94777cb5b58cf).\n",
            "INFO:discord.gateway:Shard ID None has connected to Gateway (Session ID: 1122d567b1d131757ca94777cb5b58cf).\n"
          ]
        },
        {
          "output_type": "stream",
          "name": "stdout",
          "text": [
            "Logged in as WeatherChamp - 1142693515776757830\n",
            "Bot is ready to greet!\n"
          ]
        }
      ],
      "source": [
        "import discord\n",
        "from discord.ext import commands\n",
        "import requests\n",
        "\n",
        "intents = discord.Intents.default()\n",
        "intents.message_content = True  # Enable message content intent\n",
        "\n",
        "bot = commands.Bot(command_prefix=\"!\", intents=intents)\n",
        "\n",
        "\n",
        "WEATHER_API_KEY = \"----REPLACE-----\"\n",
        "WEATHER_API_URL = \"http://api.openweathermap.org/data/2.5/weather\"\n",
        "\n",
        "TOKEN = \"----REPLACE-----\"\n",
        "SERVER_ID = \"----REPLACE-----\"\n",
        "\n",
        "\n",
        "def get_weather_data(city, units=\"metric\"):\n",
        "    params = {\n",
        "        \"q\": city,\n",
        "        \"appid\": WEATHER_API_KEY,\n",
        "        \"units\": units\n",
        "    }\n",
        "    response = requests.get(WEATHER_API_URL, params=params)\n",
        "    data = response.json()\n",
        "    return data\n",
        "\n",
        "\n",
        "\n",
        "@bot.event\n",
        "async def on_ready():\n",
        "    print(f\"Logged in as {bot.user.name} - {bot.user.id}\")\n",
        "    print(\"Bot is ready to greet!\")\n",
        "\n",
        "    # Replace with your server's ID\n",
        "    server = bot.get_guild(SERVER_ID)\n",
        "    if server:\n",
        "        print(f\"Joined server: {server.name} - {server.id}\")\n",
        "\n",
        "        # Send a greeting message to the server's default channel\n",
        "        default_channel = server.system_channel\n",
        "        if default_channel:\n",
        "            await default_channel.send(\"Hello everyone! I'm your friendly bot!\")\n",
        "\n",
        "\n",
        "@bot.event\n",
        "async def on_member_join(member):\n",
        "    server = member.guild\n",
        "    default_channel = server.system_channel\n",
        "\n",
        "    if default_channel:\n",
        "        await default_channel.send(f\"Welcome {member.mention} to the server!\")\n",
        "\n",
        "\n",
        "@bot.command()\n",
        "async def weather(ctx, *, city):\n",
        "    data = get_weather_data(city)\n",
        "\n",
        "    if data.get(\"cod\") == 200:\n",
        "        weather_main = data[\"weather\"][0][\"main\"]\n",
        "        weather_description = data[\"weather\"][0][\"description\"]\n",
        "        temperature = data[\"main\"][\"temp\"]\n",
        "        humidity = data[\"main\"][\"humidity\"]\n",
        "        wind_speed = data[\"wind\"][\"speed\"]\n",
        "\n",
        "        weather_embed = discord.Embed(title=f\"Weather in {city}\", color=discord.Color.blue())\n",
        "        weather_embed.add_field(name=\"Main\", value=weather_main)\n",
        "        weather_embed.add_field(name=\"Description\", value=weather_description)\n",
        "        weather_embed.add_field(name=\"Temperature\", value=f\"{temperature} °C\")\n",
        "        weather_embed.add_field(name=\"Humidity\", value=f\"{humidity}%\")\n",
        "        weather_embed.add_field(name=\"Wind Speed\", value=f\"{wind_speed} m/s\")\n",
        "\n",
        "        await ctx.send(embed=weather_embed)\n",
        "    else:\n",
        "        await ctx.send(\"City not found or an error occurred.\")\n",
        "\n",
        "\n",
        "@bot.command()\n",
        "async def forecast(ctx, *, city):\n",
        "    data = get_weather_data(city)\n",
        "\n",
        "    if data.get(\"cod\") == 200:\n",
        "        weather_main = data[\"weather\"][0][\"main\"]\n",
        "        temperature = data[\"main\"][\"temp\"]\n",
        "        forecast_embed = discord.Embed(title=f\"Weather Forecast for {city}\", color=discord.Color.green())\n",
        "        forecast_embed.add_field(name=\"Main\", value=weather_main)\n",
        "        forecast_embed.add_field(name=\"Temperature\", value=f\"{temperature} °C\")\n",
        "        forecast_embed.set_footer(text=\"Note: This is current weather data. Forecasting is not provided.\")\n",
        "        await ctx.send(embed=forecast_embed)\n",
        "    else:\n",
        "        await ctx.send(\"City not found or an error occurred.\")\n",
        "\n",
        "\n",
        "@bot.command()\n",
        "async def suggest(ctx, *, city):\n",
        "    response = requests.get(f\"http://api.openweathermap.org/data/2.5/weather?q={city}&appid={WEATHER_API_KEY}\")\n",
        "    data = response.json()\n",
        "\n",
        "    if data.get(\"cod\") == \"404\":\n",
        "        suggestions = [city[\"name\"] for city in data[\"cities\"]]\n",
        "        suggestions_text = \", \".join(suggestions)\n",
        "        await ctx.send(f\"Did you mean: {suggestions_text}?\")\n",
        "    else:\n",
        "        await ctx.send(\"City found.\")\n",
        "\n",
        "\n",
        "@bot.command(name=\"bot_help\")\n",
        "async def show_help(ctx):\n",
        "    help_embed = discord.Embed(title=\"Bot Commands\", color=discord.Color.green())\n",
        "    help_embed.add_field(name=\"!forecast <city>\", value=\"Get a weather forecast for a city.\")\n",
        "    help_embed.add_field(name=\"!suggest <city>\", value=\"Suggest similar city names.\")\n",
        "    help_embed.add_field(name=\"!get_weather <city>\", value=\"Get the current weather for a city with Descriotion, Wind speed, Temprature, Humidity along with Map link.\")  # New field\n",
        "    await ctx.send(embed=help_embed)\n",
        "\n",
        "\n",
        "@bot.command(name=\"get_weather\")\n",
        "async def get_weather(ctx, *, city):\n",
        "    data = get_weather_data(city)\n",
        "\n",
        "    if data.get(\"cod\") == 200:\n",
        "        city_name = data[\"name\"]\n",
        "        weather_main = data[\"weather\"][0][\"main\"]\n",
        "        weather_description = data[\"weather\"][0][\"description\"]\n",
        "        temperature = data[\"main\"][\"temp\"]\n",
        "        humidity = data[\"main\"][\"humidity\"]\n",
        "        wind_speed = data[\"wind\"][\"speed\"]\n",
        "        lat = data[\"coord\"][\"lat\"]\n",
        "        lon = data[\"coord\"][\"lon\"]\n",
        "\n",
        "        weather_embed = discord.Embed(title=f\"Weather in {city_name}\", color=discord.Color.blue())\n",
        "        weather_embed.add_field(name=\"Main\", value=weather_main)\n",
        "        weather_embed.add_field(name=\"Description\", value=weather_description)\n",
        "        weather_embed.add_field(name=\"Temperature\", value=f\"{temperature} °C\")\n",
        "        weather_embed.add_field(name=\"Humidity\", value=f\"{humidity}%\")\n",
        "        weather_embed.add_field(name=\"Wind Speed\", value=f\"{wind_speed} m/s\")\n",
        "        weather_embed.add_field(name=\"Location\", value=f\"Latitude: {lat}, Longitude: {lon}\")\n",
        "\n",
        "        # Add a link to an interactive map based on latitude and longitude\n",
        "        map_link = f\"https://www.openstreetmap.org/?mlat={lat}&mlon={lon}#map=12/{lat}/{lon}\"\n",
        "        weather_embed.add_field(name=\"Map Link\", value=f\"[Open Map]({map_link})\")\n",
        "\n",
        "        await ctx.send(embed=weather_embed)\n",
        "    else:\n",
        "        await ctx.send(\"City not found or an error occurred.\")\n",
        "\n",
        "\n",
        "bot.run(TOKEN)\n"
      ]
    }
  ]
}